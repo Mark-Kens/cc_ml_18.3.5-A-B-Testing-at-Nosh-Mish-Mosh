{
 "cells": [
  {
   "attachments": {},
   "cell_type": "markdown",
   "metadata": {},
   "source": [
    "This project is from the Codecademy Machine Learning career path.\n",
    "\n",
    "## 18.3.5\tA/B Testing at Nosh Mish Mosh  \n",
    "The Nosh Mish Mosh is a recipe and ingredient meal delivery service. They ship the raw materials and you get to cook them at your home! They’ve decided to hire a data analyst to help make product and interface decisions. Get started to help them figure out the amount of data they’ll need to make meaningful decisions.  \n",
    "Nosh Mish Mosh: An Assortment of Edible Aliments  \n",
    "1. We’ve collected customer data for the past week and exposed it through a Python library, so first import `noshmishmosh`.  \n",
    "2. Next, we’ll need to do a little bit of data analysis — let’s use numpy to help. Import numpy into your workspace as np.\n",
    "A/B Testing at Nosh Mish Mosh  \n",
    "3. Nosh Mish Mosh wants to run an experiment to see if we can convince more people to purchase meal plans if we use a more artisanal-looking vegetable selection. We’ve photographed these modern meals with blush tomatoes and graffiti eggplants, but aren’t sure if this strategy will sell enough units to benefit from establishing a business relationship with a new provider.\n",
    "Before running this experiment, of course, we need to know the sample size that will be required to detect the difference we are hoping for. There are three things we need to know before we can determine that number.  \n",
    "o\tthe Baseline Conversion Rate  \n",
    "o\tMinimum Detectable Effect (desired lift)  \n",
    "o\tand the Statistical Significance Threshold  \n",
    "4. Let’s get the ball rolling on finding those numbers! In order to get our baseline, we need to first know how many users visit the site in a typical week. Let’s grab that logged information, which is stored in `noshmishmosh.customer_visits`. Assign that to a new variable called `all_visitors`.  \n",
    "5. Next we need to know how many visitors to the site ultimately end up buying a meal or set of meals in a typical week. We have that information saved into `purchasing_customers` field on `noshmishmosh`. Save that information into a variable called `paying_visitors`.  \n",
    "6. Calculate the lengths of the two lists, saving the results into variables called `total_visitor_count` and `paying_visitor_count`, respectively.  \n",
    "7. Now to get the baseline: Divide the number of purchasing visitors by the number of total visitors. Save the result in a variable called `baseline_percent`. Since we want a percentage as our answer, multiply the result by 100.0.  \n",
    "8. Print out the baseline_percent so we know what to use for our baseline percentage in the A/B Sample Size Calculator.  \n",
    "### Mish Mosh B'Gosh: The Effect Size  \n",
    "9. These rainbow fingerling potatoes don’t come cheap. We’d like to know for sure that, with this change, we’ll be pulling in at least $1240 more every week. In order to figure out how many more customers we need, we’ll have to investigate the average revenue generated from a given sale. Luckily we have a list of the money spent by each customer in a typical week: `noshmishmosh.money_spent`. Save that list into a variable called `payment_history`.  \n",
    "10. We need to find how many purchases it would take to reach $1240 in additional revenue using our historical data.\n",
    "Let’s start with computing the average payment per paying customer using np.mean, saving it as `average_payment`.  \n",
    "11. We want to know how many of these “usual” payments it would take to clear our $1240 mark. Round the number up using np.ceil (because that’s how many new customers it takes to bring in more than $1240). Save that value into a `new_customers_needed` variable.  \n",
    "12. Now find the additional percent of weekly visitors who must make a purchase in order to make this change worthwhile. Do this by dividing the number of customers by the total visitor count for a typical week (calculated earlier), and multiplying by 100. Save the result in a variable called `percentage_point_increase`. Print percentage_point_increase to see what it is.  \n",
    "13. In order to find our **minimum detectable effect/desired lift**, we need to express `percentage_point_increase` as a percent of `baseline_percent`. You can do this by dividing percentage_point_increase by baseline_percent and multiplying by 100.0.\n",
    "Store the results in a variable called `mde`.  \n",
    "14. Print out the result mde.  \n",
    "### Nosh Mish Mosh: Tying It All Together  \n",
    "15. The last thing we need to calculate the sample size for Nosh Mish Mosh’s artisanal rebranding is our statistical significance threshold. We’d like to be fairly certain, but this isn’t going to be a million dollar decision, so let’s go with 10%.  \n",
    "16. Now put it all together! Punch the baseline, the minimum detectable effect, and the statistical significance threshold into the calculator and evaluate how many people need to be shown the new assets before we can check if the results are a significant improvement. Save the results in a variable called `ab_sample_size`.\n"
   ]
  },
  {
   "cell_type": "code",
   "execution_count": 1,
   "metadata": {},
   "outputs": [
    {
     "name": "stdout",
     "output_type": "stream",
     "text": [
      "Baseline Conversion Rate: 18.60%\n"
     ]
    }
   ],
   "source": [
    "# Step 1\n",
    "import noshmishmosh\n",
    "\n",
    "# Step 2\n",
    "import numpy as np\n",
    "\n",
    "# Step 4\n",
    "all_visitors = noshmishmosh.customer_visits\n",
    "\n",
    "# Step 5\n",
    "paying_visitors = noshmishmosh.purchasing_customers\n",
    "\n",
    "# Step 6\n",
    "total_visitor_count = len(all_visitors)\n",
    "paying_visitor_count = len(paying_visitors)\n",
    "\n",
    "# Step 7: Percent of customers.\n",
    "baseline_percent = paying_visitor_count / total_visitor_count * 100\n",
    "\n",
    "# Step 8\n",
    "print(f\"Baseline Conversion Rate: {baseline_percent:.2f}%\")\n",
    "\n",
    "# Step 9\n",
    "payment_history = noshmishmosh.money_spent\n",
    "\n",
    "# Step 10\n",
    "average_payment = np.mean(payment_history)\n",
    "\n",
    "# Step 11\n",
    "new_customers_needed = np.ceil(1240 / average_payment)\n",
    "\n"
   ]
  },
  {
   "attachments": {},
   "cell_type": "markdown",
   "metadata": {},
   "source": [
    "Step 12:  \n",
    "The additional customers come from the unchanged pool of total visitors. \n",
    "Hence, this is the number of visitors that need to be converted to paying visitors or customers."
   ]
  },
  {
   "cell_type": "code",
   "execution_count": 2,
   "metadata": {},
   "outputs": [
    {
     "name": "stdout",
     "output_type": "stream",
     "text": [
      "Percentage Point Increase: 9.40%\n",
      "Minimum Detectable Effect (MDE): 50.54%\n"
     ]
    }
   ],
   "source": [
    "# Step 12  \n",
    "percentage_point_increase = new_customers_needed / total_visitor_count * 100\n",
    "print(f\"Percentage Point Increase: {percentage_point_increase:.2f}%\")\n",
    "\n",
    "# Step 13\n",
    "mde = percentage_point_increase / baseline_percent * 100\n",
    "\n",
    "# Step 14\n",
    "print(f\"Minimum Detectable Effect (MDE): {mde:.2f}%\")"
   ]
  },
  {
   "attachments": {},
   "cell_type": "markdown",
   "metadata": {},
   "source": [
    "Step 16:   \n",
    "Using the provided baseline calculator with following variables \n",
    "* Baseline conversion rate: 18.60%\n",
    "* Significance threshold: 9.40%\n",
    "* Minimum detectable effect (MDE): 50.54%\n",
    "\n",
    "![Alt text](Images/Baseline-Calculator-1.jpg)"
   ]
  },
  {
   "cell_type": "code",
   "execution_count": 3,
   "metadata": {},
   "outputs": [
    {
     "name": "stdout",
     "output_type": "stream",
     "text": [
      "Required Sample Size: 490\n"
     ]
    }
   ],
   "source": [
    "# Step 16 \n",
    "ab_sample_size =  490\n",
    "print(f\"Required Sample Size: {ab_sample_size}\")"
   ]
  }
 ],
 "metadata": {
  "kernelspec": {
   "display_name": "Python 3",
   "language": "python",
   "name": "python3"
  },
  "language_info": {
   "codemirror_mode": {
    "name": "ipython",
    "version": 3
   },
   "file_extension": ".py",
   "mimetype": "text/x-python",
   "name": "python",
   "nbconvert_exporter": "python",
   "pygments_lexer": "ipython3",
   "version": "undefined.undefined.undefined"
  },
  "orig_nbformat": 4,
  "vscode": {
   "interpreter": {
    "hash": "9d6d8595c61784418f2baff79b5dec7312973e40a9abd09c05a846571d13eca1"
   }
  }
 },
 "nbformat": 4,
 "nbformat_minor": 2
}
